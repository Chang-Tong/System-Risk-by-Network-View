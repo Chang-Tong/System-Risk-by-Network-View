{
 "metadata": {
  "language_info": {
   "codemirror_mode": {
    "name": "ipython",
    "version": 3
   },
   "file_extension": ".py",
   "mimetype": "text/x-python",
   "name": "python",
   "nbconvert_exporter": "python",
   "pygments_lexer": "ipython3",
   "version": "3.8.5-final"
  },
  "orig_nbformat": 2,
  "kernelspec": {
   "name": "python3",
   "display_name": "Python 3.8.5 64-bit ('base': conda)",
   "metadata": {
    "interpreter": {
     "hash": "0b0d73a7eb9aaf9f1c37dbdf213c2c9676d43f6bee5650984843b881ebbf9b83"
    }
   }
  }
 },
 "nbformat": 4,
 "nbformat_minor": 2,
 "cells": [
  {
   "cell_type": "code",
   "execution_count": 7,
   "metadata": {},
   "outputs": [],
   "source": [
    "import pandas as pd\n",
    "import matplotlib.pyplot as plt \n",
    "import numpy as np \n",
    "import os\n",
    "import time\n",
    "from tqdm import tqdm"
   ]
  },
  {
   "cell_type": "code",
   "execution_count": 8,
   "metadata": {},
   "outputs": [],
   "source": [
    "file_path = os.listdir('/Users/dongzhang/6980/newMission/wind金融数据/CSRC INDUSTRIES/18FIrst-level')"
   ]
  },
  {
   "cell_type": "code",
   "execution_count": 9,
   "metadata": {},
   "outputs": [],
   "source": [
    "industry_name = [x[:-4] for x in file_path]"
   ]
  },
  {
   "cell_type": "code",
   "execution_count": 10,
   "metadata": {},
   "outputs": [],
   "source": [
    "# industry_name"
   ]
  },
  {
   "cell_type": "code",
   "execution_count": 6,
   "metadata": {},
   "outputs": [],
   "source": [
    "need_ = []\n",
    "for f in range(len(file_path)):\n",
    "    # print(file_path[f])\n",
    "    tmp = pd.read_csv('18FIrst-level/'+file_path[f],index_col=0)\n",
    "    need_.append(tmp)\n",
    "whole = pd.concat(need_)"
   ]
  },
  {
   "cell_type": "code",
   "execution_count": 11,
   "metadata": {},
   "outputs": [],
   "source": [
    "whole.to_csv('all_first_level.csv')"
   ]
  },
  {
   "cell_type": "code",
   "execution_count": 12,
   "metadata": {},
   "outputs": [],
   "source": [
    "# whole\n",
    "df = pd.read_csv('all_first_level.csv')"
   ]
  },
  {
   "cell_type": "code",
   "execution_count": 18,
   "metadata": {},
   "outputs": [
    {
     "output_type": "stream",
     "name": "stderr",
     "text": [
      "  0%|          | 0/18 [00:00<?, ?it/s]<ipython-input-18-25e040b4543f>:15: SettingWithCopyWarning: \n",
      "A value is trying to be set on a copy of a slice from a DataFrame.\n",
      "Try using .loc[row_indexer,col_indexer] = value instead\n",
      "\n",
      "See the caveats in the documentation: https://pandas.pydata.org/pandas-docs/stable/user_guide/indexing.html#returning-a-view-versus-a-copy\n",
      "  one_industry_one_day['weight']=one_industry_one_day['总市值(元)']/sum(one_industry_one_day['总市值(元)'])\n",
      "100%|██████████| 18/18 [15:05<00:00, 50.32s/it]time claupse:  905.7274129390717\n",
      "\n"
     ]
    }
   ],
   "source": [
    "start_time = time.time()\n",
    "total_dict = {}\n",
    "# for j in tqdm(range(1)):\n",
    "for j in tqdm(range(len(industry_name))):\n",
    "    one_industry_index = {}\n",
    "    # 选定一个行业\n",
    "    one_industry = df[df['first_level']==industry_name[j]]\n",
    "    # 确定了行业之后确定这个行业所能覆盖的交易日\n",
    "    days = one_industry['日期'].drop_duplicates()\n",
    "    # print(days)\n",
    "    for i in range(len(days)):\n",
    "        # 确定一个行业在一个交易日的信息\n",
    "        one_industry_one_day = one_industry[one_industry['日期']==days.iloc[i]]\n",
    "        # 计算每一天的weight\n",
    "        one_industry_one_day['weight']=one_industry_one_day['总市值(元)']/sum(one_industry_one_day['总市值(元)'])\n",
    "        # 依据weight和收盘价构造行业指数\n",
    "        one_industry_one_day_index = sum(one_industry_one_day['收盘价(元)']*one_industry_one_day['weight'])\n",
    "        one_industry_index[days.iloc[i]]=one_industry_one_day_index\n",
    "    total_dict[industry_name[j]] = one_industry_index\n",
    "end_time = time.time()\n",
    "print('time claupse: ',end_time-start_time)"
   ]
  },
  {
   "cell_type": "code",
   "execution_count": 19,
   "metadata": {},
   "outputs": [],
   "source": [
    "all_index = pd.DataFrame(total_dict)"
   ]
  },
  {
   "cell_type": "code",
   "execution_count": 20,
   "metadata": {},
   "outputs": [
    {
     "output_type": "execute_result",
     "data": {
      "text/plain": [
       "            居民服务维修业  交通运输仓储邮政业       建筑业     住宿和餐饮业  科学研究和技术服务业         制造业  \\\n",
       "2018-01-09    11.20  14.200854  9.232174  18.182882   67.260512   47.539242   \n",
       "2018-01-10    12.32  14.030459  9.157611  18.713817   63.481249   48.024481   \n",
       "2018-01-11    13.56  14.014383  9.145499  19.376374   65.062586   47.194253   \n",
       "2018-01-12    14.91  14.006658  9.052084  19.171680   66.565435   48.283528   \n",
       "2018-01-15    16.40  13.863628  8.855517  20.407951   63.614958   48.376822   \n",
       "...             ...        ...       ...        ...         ...         ...   \n",
       "2018-01-03      NaN  14.050593  9.174600  18.632787   70.041712   42.858223   \n",
       "2018-01-04      NaN  14.379776  9.146099  18.964962   68.752016   44.351907   \n",
       "2018-01-05      NaN  14.226740  9.240031  19.060020   69.578600   44.425815   \n",
       "2018-01-08      NaN  14.095652  9.275490  18.578024   66.917876   45.329081   \n",
       "2020-12-31      NaN  14.858430  6.439333  31.316850   92.109079  186.617401   \n",
       "\n",
       "                 采矿业      文体娱乐业        教育业  信息传输、软件和信息技术服务业        金融业  \\\n",
       "2018-01-09  9.462469  14.727009  20.165122        17.123442  15.894055   \n",
       "2018-01-10  9.541241  14.570331  19.886754        17.122007  15.869787   \n",
       "2018-01-11  9.428567  14.625510  19.646112        17.699372  16.000832   \n",
       "2018-01-12  9.421512  14.606360  19.464470        17.516619  16.333350   \n",
       "2018-01-15  9.291321  14.267555  19.042128        17.004472  16.930040   \n",
       "...              ...        ...        ...              ...        ...   \n",
       "2018-01-03  9.024046  15.031434  20.060978        17.358310  15.873363   \n",
       "2018-01-04  9.137926  14.950587  20.009918        17.495399  15.817353   \n",
       "2018-01-05  9.244107  14.952164  20.059579        17.273552  15.748552   \n",
       "2018-01-08  9.529157  14.717508  20.106856        17.242491  15.565610   \n",
       "2020-12-31  8.760105  26.985108  33.147667        69.647492  18.384453   \n",
       "\n",
       "             租赁和商务服务业  水利、环境和公共设施管理业      农林牧渔业  电热燃水生产和供应业     批发和零售业  \\\n",
       "2018-01-09  15.417796      15.978585  15.347841    8.110944  15.223864   \n",
       "2018-01-10  15.429442      15.800577  15.233441    8.177327  15.114531   \n",
       "2018-01-11  15.427907      15.827951  15.178702    8.218744  15.108044   \n",
       "2018-01-12  15.429210      15.713855  15.307086    8.209229  15.074956   \n",
       "2018-01-15  15.837777      15.201777  14.803986    8.274035  14.902885   \n",
       "...               ...            ...        ...         ...        ...   \n",
       "2018-01-03  15.295334      16.547843  14.208308    8.057989  15.129822   \n",
       "2018-01-04  15.250433      16.313002  14.285079    8.012767  15.124239   \n",
       "2018-01-05  15.190009      16.183052  14.593461    8.045261  15.118225   \n",
       "2018-01-08  15.400840      16.097558  15.428982    8.064104  15.204235   \n",
       "2020-12-31  14.030277      16.553856  41.698024    8.851125  20.494139   \n",
       "\n",
       "                 综合业   卫生和社会工作业  \n",
       "2018-01-09  8.298001  17.417769  \n",
       "2018-01-10  8.252489  17.172425  \n",
       "2018-01-11  8.279806  17.494348  \n",
       "2018-01-12  8.292632  17.354488  \n",
       "2018-01-15  8.102730  17.003136  \n",
       "...              ...        ...  \n",
       "2018-01-03  8.245107  16.589704  \n",
       "2018-01-04  8.272361  16.499389  \n",
       "2018-01-05  8.349118  16.976519  \n",
       "2018-01-08  8.323524  17.050635  \n",
       "2020-12-31  6.544517  99.156287  \n",
       "\n",
       "[2674 rows x 18 columns]"
      ],
      "text/html": "<div>\n<style scoped>\n    .dataframe tbody tr th:only-of-type {\n        vertical-align: middle;\n    }\n\n    .dataframe tbody tr th {\n        vertical-align: top;\n    }\n\n    .dataframe thead th {\n        text-align: right;\n    }\n</style>\n<table border=\"1\" class=\"dataframe\">\n  <thead>\n    <tr style=\"text-align: right;\">\n      <th></th>\n      <th>居民服务维修业</th>\n      <th>交通运输仓储邮政业</th>\n      <th>建筑业</th>\n      <th>住宿和餐饮业</th>\n      <th>科学研究和技术服务业</th>\n      <th>制造业</th>\n      <th>采矿业</th>\n      <th>文体娱乐业</th>\n      <th>教育业</th>\n      <th>信息传输、软件和信息技术服务业</th>\n      <th>金融业</th>\n      <th>租赁和商务服务业</th>\n      <th>水利、环境和公共设施管理业</th>\n      <th>农林牧渔业</th>\n      <th>电热燃水生产和供应业</th>\n      <th>批发和零售业</th>\n      <th>综合业</th>\n      <th>卫生和社会工作业</th>\n    </tr>\n  </thead>\n  <tbody>\n    <tr>\n      <th>2018-01-09</th>\n      <td>11.20</td>\n      <td>14.200854</td>\n      <td>9.232174</td>\n      <td>18.182882</td>\n      <td>67.260512</td>\n      <td>47.539242</td>\n      <td>9.462469</td>\n      <td>14.727009</td>\n      <td>20.165122</td>\n      <td>17.123442</td>\n      <td>15.894055</td>\n      <td>15.417796</td>\n      <td>15.978585</td>\n      <td>15.347841</td>\n      <td>8.110944</td>\n      <td>15.223864</td>\n      <td>8.298001</td>\n      <td>17.417769</td>\n    </tr>\n    <tr>\n      <th>2018-01-10</th>\n      <td>12.32</td>\n      <td>14.030459</td>\n      <td>9.157611</td>\n      <td>18.713817</td>\n      <td>63.481249</td>\n      <td>48.024481</td>\n      <td>9.541241</td>\n      <td>14.570331</td>\n      <td>19.886754</td>\n      <td>17.122007</td>\n      <td>15.869787</td>\n      <td>15.429442</td>\n      <td>15.800577</td>\n      <td>15.233441</td>\n      <td>8.177327</td>\n      <td>15.114531</td>\n      <td>8.252489</td>\n      <td>17.172425</td>\n    </tr>\n    <tr>\n      <th>2018-01-11</th>\n      <td>13.56</td>\n      <td>14.014383</td>\n      <td>9.145499</td>\n      <td>19.376374</td>\n      <td>65.062586</td>\n      <td>47.194253</td>\n      <td>9.428567</td>\n      <td>14.625510</td>\n      <td>19.646112</td>\n      <td>17.699372</td>\n      <td>16.000832</td>\n      <td>15.427907</td>\n      <td>15.827951</td>\n      <td>15.178702</td>\n      <td>8.218744</td>\n      <td>15.108044</td>\n      <td>8.279806</td>\n      <td>17.494348</td>\n    </tr>\n    <tr>\n      <th>2018-01-12</th>\n      <td>14.91</td>\n      <td>14.006658</td>\n      <td>9.052084</td>\n      <td>19.171680</td>\n      <td>66.565435</td>\n      <td>48.283528</td>\n      <td>9.421512</td>\n      <td>14.606360</td>\n      <td>19.464470</td>\n      <td>17.516619</td>\n      <td>16.333350</td>\n      <td>15.429210</td>\n      <td>15.713855</td>\n      <td>15.307086</td>\n      <td>8.209229</td>\n      <td>15.074956</td>\n      <td>8.292632</td>\n      <td>17.354488</td>\n    </tr>\n    <tr>\n      <th>2018-01-15</th>\n      <td>16.40</td>\n      <td>13.863628</td>\n      <td>8.855517</td>\n      <td>20.407951</td>\n      <td>63.614958</td>\n      <td>48.376822</td>\n      <td>9.291321</td>\n      <td>14.267555</td>\n      <td>19.042128</td>\n      <td>17.004472</td>\n      <td>16.930040</td>\n      <td>15.837777</td>\n      <td>15.201777</td>\n      <td>14.803986</td>\n      <td>8.274035</td>\n      <td>14.902885</td>\n      <td>8.102730</td>\n      <td>17.003136</td>\n    </tr>\n    <tr>\n      <th>...</th>\n      <td>...</td>\n      <td>...</td>\n      <td>...</td>\n      <td>...</td>\n      <td>...</td>\n      <td>...</td>\n      <td>...</td>\n      <td>...</td>\n      <td>...</td>\n      <td>...</td>\n      <td>...</td>\n      <td>...</td>\n      <td>...</td>\n      <td>...</td>\n      <td>...</td>\n      <td>...</td>\n      <td>...</td>\n      <td>...</td>\n    </tr>\n    <tr>\n      <th>2018-01-03</th>\n      <td>NaN</td>\n      <td>14.050593</td>\n      <td>9.174600</td>\n      <td>18.632787</td>\n      <td>70.041712</td>\n      <td>42.858223</td>\n      <td>9.024046</td>\n      <td>15.031434</td>\n      <td>20.060978</td>\n      <td>17.358310</td>\n      <td>15.873363</td>\n      <td>15.295334</td>\n      <td>16.547843</td>\n      <td>14.208308</td>\n      <td>8.057989</td>\n      <td>15.129822</td>\n      <td>8.245107</td>\n      <td>16.589704</td>\n    </tr>\n    <tr>\n      <th>2018-01-04</th>\n      <td>NaN</td>\n      <td>14.379776</td>\n      <td>9.146099</td>\n      <td>18.964962</td>\n      <td>68.752016</td>\n      <td>44.351907</td>\n      <td>9.137926</td>\n      <td>14.950587</td>\n      <td>20.009918</td>\n      <td>17.495399</td>\n      <td>15.817353</td>\n      <td>15.250433</td>\n      <td>16.313002</td>\n      <td>14.285079</td>\n      <td>8.012767</td>\n      <td>15.124239</td>\n      <td>8.272361</td>\n      <td>16.499389</td>\n    </tr>\n    <tr>\n      <th>2018-01-05</th>\n      <td>NaN</td>\n      <td>14.226740</td>\n      <td>9.240031</td>\n      <td>19.060020</td>\n      <td>69.578600</td>\n      <td>44.425815</td>\n      <td>9.244107</td>\n      <td>14.952164</td>\n      <td>20.059579</td>\n      <td>17.273552</td>\n      <td>15.748552</td>\n      <td>15.190009</td>\n      <td>16.183052</td>\n      <td>14.593461</td>\n      <td>8.045261</td>\n      <td>15.118225</td>\n      <td>8.349118</td>\n      <td>16.976519</td>\n    </tr>\n    <tr>\n      <th>2018-01-08</th>\n      <td>NaN</td>\n      <td>14.095652</td>\n      <td>9.275490</td>\n      <td>18.578024</td>\n      <td>66.917876</td>\n      <td>45.329081</td>\n      <td>9.529157</td>\n      <td>14.717508</td>\n      <td>20.106856</td>\n      <td>17.242491</td>\n      <td>15.565610</td>\n      <td>15.400840</td>\n      <td>16.097558</td>\n      <td>15.428982</td>\n      <td>8.064104</td>\n      <td>15.204235</td>\n      <td>8.323524</td>\n      <td>17.050635</td>\n    </tr>\n    <tr>\n      <th>2020-12-31</th>\n      <td>NaN</td>\n      <td>14.858430</td>\n      <td>6.439333</td>\n      <td>31.316850</td>\n      <td>92.109079</td>\n      <td>186.617401</td>\n      <td>8.760105</td>\n      <td>26.985108</td>\n      <td>33.147667</td>\n      <td>69.647492</td>\n      <td>18.384453</td>\n      <td>14.030277</td>\n      <td>16.553856</td>\n      <td>41.698024</td>\n      <td>8.851125</td>\n      <td>20.494139</td>\n      <td>6.544517</td>\n      <td>99.156287</td>\n    </tr>\n  </tbody>\n</table>\n<p>2674 rows × 18 columns</p>\n</div>"
     },
     "metadata": {},
     "execution_count": 20
    }
   ],
   "source": [
    "all_index"
   ]
  },
  {
   "cell_type": "code",
   "execution_count": 21,
   "metadata": {},
   "outputs": [],
   "source": [
    "all_index.sort_index(inplace=True)"
   ]
  },
  {
   "cell_type": "code",
   "execution_count": 22,
   "metadata": {},
   "outputs": [],
   "source": [
    "all_index.to_csv('all_first_level_10_20.csv')"
   ]
  },
  {
   "cell_type": "code",
   "execution_count": 23,
   "metadata": {},
   "outputs": [],
   "source": [
    "all_index['日期']=all_index.index\n",
    "all_index['year'] = all_index.apply(lambda x:x['日期'][:-6],axis=1)\n",
    "years = all_index.year.drop_duplicates()\n",
    "for i in range(len(years)):\n",
    "    year1 = all_index[all_index.year==years[i]][:-1]\n",
    "    year1.set_index(year1['year'])\n",
    "    year1 = year1.drop(['日期','year'],axis=1)\n",
    "    dyear = year1.diff()/year1\n",
    "    dyear = (dyear-dyear.mean())/dyear.std()\n",
    "    corr = dyear.corr()\n",
    "    corr.to_csv(years[i]+' first-level corr.csv')"
   ]
  }
 ]
}