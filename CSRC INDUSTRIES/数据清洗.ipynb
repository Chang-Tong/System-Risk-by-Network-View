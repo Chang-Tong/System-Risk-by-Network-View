{
 "metadata": {
  "language_info": {
   "codemirror_mode": {
    "name": "ipython",
    "version": 3
   },
   "file_extension": ".py",
   "mimetype": "text/x-python",
   "name": "python",
   "nbconvert_exporter": "python",
   "pygments_lexer": "ipython3",
   "version": "3.8.5-final"
  },
  "orig_nbformat": 2,
  "kernelspec": {
   "name": "python3",
   "display_name": "Python 3.8.5 64-bit ('base': conda)",
   "metadata": {
    "interpreter": {
     "hash": "0b0d73a7eb9aaf9f1c37dbdf213c2c9676d43f6bee5650984843b881ebbf9b83"
    }
   }
  }
 },
 "nbformat": 4,
 "nbformat_minor": 2,
 "cells": [
  {
   "cell_type": "code",
   "execution_count": 1,
   "metadata": {},
   "outputs": [],
   "source": [
    "import pandas as pd\n",
    "import numpy as np\n",
    "import matplotlib.pyplot as plt \n",
    "import os\n",
    "from tqdm import tqdm"
   ]
  },
  {
   "cell_type": "code",
   "execution_count": 2,
   "metadata": {},
   "outputs": [],
   "source": [
    "\n",
    "file_path = os.listdir('concated_data/industries')\n",
    "# file_path\n"
   ]
  },
  {
   "cell_type": "code",
   "execution_count": 3,
   "metadata": {},
   "outputs": [],
   "source": [
    "def add_industry(industry):\n",
    "    df = pd.read_csv('concated_data/industries/'+industry,index_col=0)[:-1]\n",
    "    # 加入行业信息\n",
    "    df['industry'] = industry[:-4]\n",
    "    # 去除缺失值\n",
    "    df =df.dropna()\n",
    "    # 增加月份、年度信息\n",
    "    df['month'] = df.apply(lambda x:x['日期'][:-3],axis=1)\n",
    "    df['year'] = df.apply(lambda x:x['日期'][:-6],axis=1)\n",
    "    df.to_csv('cleaned_data/'+industry)"
   ]
  },
  {
   "cell_type": "code",
   "execution_count": 4,
   "metadata": {},
   "outputs": [
    {
     "output_type": "stream",
     "name": "stderr",
     "text": [
      "100%|██████████| 80/80 [02:32<00:00,  1.91s/it]\n"
     ]
    }
   ],
   "source": [
    "for i in tqdm(range(len(file_path))):\n",
    "    add_industry(file_path[i])"
   ]
  }
 ]
}