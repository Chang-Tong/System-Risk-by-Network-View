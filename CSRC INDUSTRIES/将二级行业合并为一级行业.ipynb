{
 "metadata": {
  "language_info": {
   "codemirror_mode": {
    "name": "ipython",
    "version": 3
   },
   "file_extension": ".py",
   "mimetype": "text/x-python",
   "name": "python",
   "nbconvert_exporter": "python",
   "pygments_lexer": "ipython3",
   "version": "3.8.5-final"
  },
  "orig_nbformat": 2,
  "kernelspec": {
   "name": "python3",
   "display_name": "Python 3.8.5 64-bit ('base': conda)",
   "metadata": {
    "interpreter": {
     "hash": "0b0d73a7eb9aaf9f1c37dbdf213c2c9676d43f6bee5650984843b881ebbf9b83"
    }
   }
  }
 },
 "nbformat": 4,
 "nbformat_minor": 2,
 "cells": [
  {
   "cell_type": "code",
   "execution_count": 1,
   "metadata": {},
   "outputs": [],
   "source": [
    "import pandas as pd\n",
    "import os"
   ]
  },
  {
   "cell_type": "code",
   "execution_count": 2,
   "metadata": {},
   "outputs": [],
   "source": [
    "## 构建一级行业数据"
   ]
  },
  {
   "cell_type": "code",
   "execution_count": 3,
   "metadata": {},
   "outputs": [],
   "source": [
    "mother_path_list = os.listdir('First-level industry')\n",
    "mother_path_list.remove('.DS_Store')\n",
    "# mother_path_list.remove('房地产')"
   ]
  },
  {
   "cell_type": "code",
   "execution_count": 4,
   "metadata": {},
   "outputs": [],
   "source": [
    "# mother_path_list"
   ]
  },
  {
   "cell_type": "code",
   "execution_count": 5,
   "metadata": {},
   "outputs": [],
   "source": [
    "aim_adress = []\n",
    "for i in range(len(mother_path_list)):\n",
    "    address = os.listdir('First-level industry/'+mother_path_list[i])\n",
    "    try:\n",
    "        address.remove('.DS_Store')\n",
    "        aim_adress.append(address)\n",
    "    except:\n",
    "        aim_adress.append(address)\n",
    "        continue\n",
    "    # if address!='.DS_Store':\n",
    "    "
   ]
  },
  {
   "cell_type": "code",
   "execution_count": 6,
   "metadata": {},
   "outputs": [
    {
     "output_type": "execute_result",
     "data": {
      "text/plain": [
       "[['教育业.csv'],\n",
       " ['货币金融服务.csv', '资本市场服务.csv', '其他金融业.csv'],\n",
       " ['邮政业.csv',\n",
       "  '道路运输业.csv',\n",
       "  '航空运输业.csv',\n",
       "  '仓储业.csv',\n",
       "  '装卸搬运及其他运输代理.csv',\n",
       "  '铁路运输业.csv',\n",
       "  '水上运输业.csv'],\n",
       " ['电信、广播电视和卫星传输服务.csv', '互联网和相关服务.csv', '软件和信息技术服务业.csv'],\n",
       " ['农业.csv', '畜牧业.csv', '农、林、牧、渔服务业.csv', '林业.csv', '渔业.csv'],\n",
       " ['家具制造业.csv',\n",
       "  '石油加工、炼焦及核燃料加工业.csv',\n",
       "  '非金属矿物制造业.csv',\n",
       "  '通用设备制造业.csv',\n",
       "  '金属制品业.csv',\n",
       "  '其他制造业.csv',\n",
       "  '专用设备制造业.csv',\n",
       "  '黑色金属加工.csv',\n",
       "  '计算机、通信和其他电子设备制造业.csv',\n",
       "  '仪器仪表制造业.csv',\n",
       "  '农副食品加工业.csv',\n",
       "  '铁路、船舶、航空航天和其他运输模式设备制造业.csv',\n",
       "  '电气机械及器材制造业.csv',\n",
       "  '酒、饮料和精制茶制造业.csv',\n",
       "  '化学原料及化学制品制造业.csv',\n",
       "  '纺织服装、服饰业.csv',\n",
       "  '文教、工美、体育和娱乐用品制造业.csv',\n",
       "  '有色金属加工.csv',\n",
       "  '食品制造业.csv',\n",
       "  '纺织业.csv',\n",
       "  '木材加工及木、竹、藤、棕、草制品业.csv',\n",
       "  '皮革、毛皮、羽毛及其.csv',\n",
       "  '橡胶和塑料制造业.csv',\n",
       "  '废弃资源综合利用业.csv',\n",
       "  '汽车制造业.csv',\n",
       "  '印刷和记录媒介复制业.csv',\n",
       "  '化学纤维制造业.csv',\n",
       "  '医药制造业.csv',\n",
       "  '造纸及纸制品业.csv'],\n",
       " ['建筑安装业.csv', '建筑装饰和其他安装业.csv', '房屋建筑业.csv', '土木工程建筑业.csv'],\n",
       " ['研究和试验发展.csv', '专业技术服务业.csv', '科技推广和应用服务业.csv'],\n",
       " ['卫生业.csv'],\n",
       " ['文化艺术业.csv', '广播、电视、电影和影视录音制作业.csv', '体育业.csv', '新闻和出版业.csv'],\n",
       " ['房地产.csv'],\n",
       " ['机动车、电子产品和日用品服务业.csv'],\n",
       " ['黑色金属矿采选业.csv',\n",
       "  '煤炭开采和洗选业.csv',\n",
       "  '石油和天然气开采业.csv',\n",
       "  '有色金属矿采选业.csv',\n",
       "  '非金属矿采选业.csv',\n",
       "  '开采辅助活动.csv'],\n",
       " ['零售业.csv', '批发业.csv'],\n",
       " ['商务服务业.csv', '租赁业.csv'],\n",
       " ['综合.csv'],\n",
       " ['生态保护和环境治理业.csv', '公共设施管理业.csv'],\n",
       " ['住宿业.csv', '餐饮业.csv'],\n",
       " ['燃气生产和供应业.csv', '电力、热力生产和供应业.csv', '水的生产和供应业.csv']]"
      ]
     },
     "metadata": {},
     "execution_count": 6
    }
   ],
   "source": [
    "aim_adress"
   ]
  },
  {
   "cell_type": "code",
   "execution_count": 7,
   "metadata": {},
   "outputs": [],
   "source": [
    "\n",
    "for i in range(len(aim_adress)):\n",
    "    first_level = []\n",
    "    for j in range(len(aim_adress[i])):\n",
    "        # print('First-level industry/'+mother_path_list[i]+'/'+aim_adress[i][j])\n",
    "        first_level.append(pd.read_csv('First-level industry/'+mother_path_list[i]+'/'+aim_adress[i][j],index_col=0))\n",
    "        tmp = pd.concat(first_level)\n",
    "        tmp['first_level']=mother_path_list[i]\n",
    "        tmp.to_csv('18FIrst-level/'+mother_path_list[i]+'.csv')\n",
    "\n"
   ]
  },
  {
   "cell_type": "code",
   "execution_count": null,
   "metadata": {},
   "outputs": [],
   "source": []
  }
 ]
}