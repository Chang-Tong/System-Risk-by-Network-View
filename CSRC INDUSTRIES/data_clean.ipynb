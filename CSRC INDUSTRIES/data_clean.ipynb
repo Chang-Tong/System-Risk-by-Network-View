{
 "metadata": {
  "language_info": {
   "codemirror_mode": {
    "name": "ipython",
    "version": 3
   },
   "file_extension": ".py",
   "mimetype": "text/x-python",
   "name": "python",
   "nbconvert_exporter": "python",
   "pygments_lexer": "ipython3",
   "version": "3.8.5-final"
  },
  "orig_nbformat": 2,
  "kernelspec": {
   "name": "python3",
   "display_name": "Python 3.8.5 64-bit ('base': conda)",
   "metadata": {
    "interpreter": {
     "hash": "0b0d73a7eb9aaf9f1c37dbdf213c2c9676d43f6bee5650984843b881ebbf9b83"
    }
   }
  }
 },
 "nbformat": 4,
 "nbformat_minor": 2,
 "cells": [
  {
   "cell_type": "code",
   "execution_count": 1,
   "metadata": {},
   "outputs": [],
   "source": [
    "import pandas as pd\n",
    "import numpy as np\n",
    "import matplotlib.pyplot as plt \n",
    "import os"
   ]
  },
  {
   "cell_type": "code",
   "execution_count": 2,
   "metadata": {},
   "outputs": [
    {
     "output_type": "execute_result",
     "data": {
      "text/plain": [
       "['农业.csv',\n",
       " '黑色金属矿采选业.csv',\n",
       " '畜牧业.csv',\n",
       " '煤炭开采和洗选业.csv',\n",
       " '农、林、牧、渔服务业.csv',\n",
       " '林业.csv',\n",
       " '农副食品加工业.csv',\n",
       " '石油和天然气开采业.csv',\n",
       " '酒、饮料和精制茶制造业.csv',\n",
       " '食品制造业.csv',\n",
       " '有色金属矿采选业.csv',\n",
       " '非金属矿采选业.csv',\n",
       " '开采辅助活动.csv',\n",
       " '渔业.csv']"
      ]
     },
     "metadata": {},
     "execution_count": 2
    }
   ],
   "source": [
    "\n",
    "file_path = os.listdir('industies data')\n",
    "file_path\n"
   ]
  },
  {
   "cell_type": "code",
   "execution_count": 3,
   "metadata": {},
   "outputs": [],
   "source": [
    "def add_weight_industry(industry):\n",
    "    df = pd.read_csv('industies data/'+industry,index_col=0)[:-1]\n",
    "    df['industry'] = industry[:-4]\n",
    "    df['month'] = df['日期']\n",
    "    days = df['日期'].drop_duplicates()\n",
    "    # print(days[0])\n",
    "    need_concated = []\n",
    "    for i in days:\n",
    "        one_day = df[df['日期']==i]\n",
    "        # one_day.columns\n",
    "        one_day['weight'] = one_day['总市值(元)']/sum(one_day['总市值(元)'])\n",
    "        need_concated.append(one_day)\n",
    "    concated = pd.concat(need_concated)\n",
    "    concated.to_csv('cleaned_data/'+industry)\n",
    "# one_day\n",
    "# concated"
   ]
  },
  {
   "cell_type": "code",
   "execution_count": 4,
   "metadata": {},
   "outputs": [],
   "source": [
    "for i in file_path:\n",
    "    add_weight_industry(i)"
   ]
  },
  {
   "cell_type": "code",
   "execution_count": null,
   "metadata": {},
   "outputs": [],
   "source": []
  }
 ]
}