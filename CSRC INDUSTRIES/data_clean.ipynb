{
 "metadata": {
  "language_info": {
   "codemirror_mode": {
    "name": "ipython",
    "version": 3
   },
   "file_extension": ".py",
   "mimetype": "text/x-python",
   "name": "python",
   "nbconvert_exporter": "python",
   "pygments_lexer": "ipython3",
   "version": "3.8.5-final"
  },
  "orig_nbformat": 2,
  "kernelspec": {
   "name": "python3",
   "display_name": "Python 3.8.5 64-bit ('base': conda)",
   "metadata": {
    "interpreter": {
     "hash": "0b0d73a7eb9aaf9f1c37dbdf213c2c9676d43f6bee5650984843b881ebbf9b83"
    }
   }
  }
 },
 "nbformat": 4,
 "nbformat_minor": 2,
 "cells": [
  {
   "cell_type": "code",
   "execution_count": 8,
   "metadata": {},
   "outputs": [],
   "source": [
    "import pandas as pd\n",
    "import numpy as np\n",
    "import matplotlib.pyplot as plt \n",
    "import os"
   ]
  },
  {
   "cell_type": "code",
   "execution_count": 14,
   "metadata": {},
   "outputs": [
    {
     "output_type": "execute_result",
     "data": {
      "text/plain": [
       "['农业.csv',\n",
       " '黑色金属矿采选业.csv',\n",
       " '畜牧业.csv',\n",
       " '煤炭开采和洗选业.csv',\n",
       " '农、林、牧、渔服务业.csv',\n",
       " '林业.csv',\n",
       " '农副食品加工业.csv',\n",
       " '石油和天然气开采业.csv',\n",
       " '酒、饮料和精制茶制造业.csv',\n",
       " '食品制造业.csv',\n",
       " '有色金属矿采选业.csv',\n",
       " '非金属矿采选业.csv',\n",
       " '开采辅助活动.csv',\n",
       " '渔业.csv']"
      ]
     },
     "metadata": {},
     "execution_count": 14
    }
   ],
   "source": [
    "\n",
    "file_path = os.listdir('industies data')\n",
    "file_path\n"
   ]
  },
  {
   "cell_type": "code",
   "execution_count": 32,
   "metadata": {},
   "outputs": [
    {
     "output_type": "execute_result",
     "data": {
      "text/plain": [
       "              简称          日期  开盘价(元)  收盘价(元)        总市值(元) industry    weight\n",
       "代码                                                                           \n",
       "000998.SZ   隆平高科  2020-12-31   19.02   19.81  2.608918e+10       农业  0.164891\n",
       "002041.SZ   登海种业  2020-12-31   21.70   22.32  1.964160e+10       农业  0.124141\n",
       "002772.SZ   众兴菌业  2020-12-31   11.73   11.55  4.247133e+09       农业  0.026843\n",
       "300087.SZ   荃银高科  2020-12-31   29.35   30.63  1.318101e+10       农业  0.083308\n",
       "300189.SZ   神农科技  2020-12-31    6.14    6.30  6.451200e+09       农业  0.040773\n",
       "300511.SZ   雪榕生物  2020-12-31   12.87   13.05  5.768491e+09       农业  0.036459\n",
       "600108.SH   亚盛集团  2020-12-31    3.68    3.70  7.203586e+09       农业  0.045529\n",
       "600313.SH   农发种业  2020-12-31    5.91    5.90  6.384972e+09       农业  0.040355\n",
       "600354.SH  *ST敦种  2020-12-31    4.32    4.36  2.301217e+09       农业  0.014544\n",
       "600359.SH   新农开发  2020-12-31    8.72    8.83  3.368758e+09       农业  0.021292\n",
       "600371.SH   万向德农  2020-12-31   15.28   15.94  4.663693e+09       农业  0.029476\n",
       "600506.SH   香梨股份  2020-12-31   10.12   10.10  1.491839e+09       农业  0.009429\n",
       "600540.SH   新赛股份  2020-12-31    5.41    5.48  2.580660e+09       农业  0.016311\n",
       "600598.SH    北大荒  2020-12-31   18.44   19.25  3.422034e+10       农业  0.216283\n",
       "601118.SH   海南橡胶  2020-12-31    4.73    4.82  2.062684e+10       农业  0.130368"
      ],
      "text/html": "<div>\n<style scoped>\n    .dataframe tbody tr th:only-of-type {\n        vertical-align: middle;\n    }\n\n    .dataframe tbody tr th {\n        vertical-align: top;\n    }\n\n    .dataframe thead th {\n        text-align: right;\n    }\n</style>\n<table border=\"1\" class=\"dataframe\">\n  <thead>\n    <tr style=\"text-align: right;\">\n      <th></th>\n      <th>简称</th>\n      <th>日期</th>\n      <th>开盘价(元)</th>\n      <th>收盘价(元)</th>\n      <th>总市值(元)</th>\n      <th>industry</th>\n      <th>weight</th>\n    </tr>\n    <tr>\n      <th>代码</th>\n      <th></th>\n      <th></th>\n      <th></th>\n      <th></th>\n      <th></th>\n      <th></th>\n      <th></th>\n    </tr>\n  </thead>\n  <tbody>\n    <tr>\n      <th>000998.SZ</th>\n      <td>隆平高科</td>\n      <td>2020-12-31</td>\n      <td>19.02</td>\n      <td>19.81</td>\n      <td>2.608918e+10</td>\n      <td>农业</td>\n      <td>0.164891</td>\n    </tr>\n    <tr>\n      <th>002041.SZ</th>\n      <td>登海种业</td>\n      <td>2020-12-31</td>\n      <td>21.70</td>\n      <td>22.32</td>\n      <td>1.964160e+10</td>\n      <td>农业</td>\n      <td>0.124141</td>\n    </tr>\n    <tr>\n      <th>002772.SZ</th>\n      <td>众兴菌业</td>\n      <td>2020-12-31</td>\n      <td>11.73</td>\n      <td>11.55</td>\n      <td>4.247133e+09</td>\n      <td>农业</td>\n      <td>0.026843</td>\n    </tr>\n    <tr>\n      <th>300087.SZ</th>\n      <td>荃银高科</td>\n      <td>2020-12-31</td>\n      <td>29.35</td>\n      <td>30.63</td>\n      <td>1.318101e+10</td>\n      <td>农业</td>\n      <td>0.083308</td>\n    </tr>\n    <tr>\n      <th>300189.SZ</th>\n      <td>神农科技</td>\n      <td>2020-12-31</td>\n      <td>6.14</td>\n      <td>6.30</td>\n      <td>6.451200e+09</td>\n      <td>农业</td>\n      <td>0.040773</td>\n    </tr>\n    <tr>\n      <th>300511.SZ</th>\n      <td>雪榕生物</td>\n      <td>2020-12-31</td>\n      <td>12.87</td>\n      <td>13.05</td>\n      <td>5.768491e+09</td>\n      <td>农业</td>\n      <td>0.036459</td>\n    </tr>\n    <tr>\n      <th>600108.SH</th>\n      <td>亚盛集团</td>\n      <td>2020-12-31</td>\n      <td>3.68</td>\n      <td>3.70</td>\n      <td>7.203586e+09</td>\n      <td>农业</td>\n      <td>0.045529</td>\n    </tr>\n    <tr>\n      <th>600313.SH</th>\n      <td>农发种业</td>\n      <td>2020-12-31</td>\n      <td>5.91</td>\n      <td>5.90</td>\n      <td>6.384972e+09</td>\n      <td>农业</td>\n      <td>0.040355</td>\n    </tr>\n    <tr>\n      <th>600354.SH</th>\n      <td>*ST敦种</td>\n      <td>2020-12-31</td>\n      <td>4.32</td>\n      <td>4.36</td>\n      <td>2.301217e+09</td>\n      <td>农业</td>\n      <td>0.014544</td>\n    </tr>\n    <tr>\n      <th>600359.SH</th>\n      <td>新农开发</td>\n      <td>2020-12-31</td>\n      <td>8.72</td>\n      <td>8.83</td>\n      <td>3.368758e+09</td>\n      <td>农业</td>\n      <td>0.021292</td>\n    </tr>\n    <tr>\n      <th>600371.SH</th>\n      <td>万向德农</td>\n      <td>2020-12-31</td>\n      <td>15.28</td>\n      <td>15.94</td>\n      <td>4.663693e+09</td>\n      <td>农业</td>\n      <td>0.029476</td>\n    </tr>\n    <tr>\n      <th>600506.SH</th>\n      <td>香梨股份</td>\n      <td>2020-12-31</td>\n      <td>10.12</td>\n      <td>10.10</td>\n      <td>1.491839e+09</td>\n      <td>农业</td>\n      <td>0.009429</td>\n    </tr>\n    <tr>\n      <th>600540.SH</th>\n      <td>新赛股份</td>\n      <td>2020-12-31</td>\n      <td>5.41</td>\n      <td>5.48</td>\n      <td>2.580660e+09</td>\n      <td>农业</td>\n      <td>0.016311</td>\n    </tr>\n    <tr>\n      <th>600598.SH</th>\n      <td>北大荒</td>\n      <td>2020-12-31</td>\n      <td>18.44</td>\n      <td>19.25</td>\n      <td>3.422034e+10</td>\n      <td>农业</td>\n      <td>0.216283</td>\n    </tr>\n    <tr>\n      <th>601118.SH</th>\n      <td>海南橡胶</td>\n      <td>2020-12-31</td>\n      <td>4.73</td>\n      <td>4.82</td>\n      <td>2.062684e+10</td>\n      <td>农业</td>\n      <td>0.130368</td>\n    </tr>\n  </tbody>\n</table>\n</div>"
     },
     "metadata": {},
     "execution_count": 32
    }
   ],
   "source": [
    "# def add_weight_industry():\n",
    "df = pd.read_csv('industies data/'+file_path[0],index_col=0)[:-1]\n",
    "df['industry'] = file_path[0][:-4]\n",
    "days = df['日期'].drop_duplicates()\n",
    "# print(days[0])\n",
    "need_concated = []\n",
    "for i in days:\n",
    "    one_day = df[df['日期']==i]\n",
    "    # one_day.columns\n",
    "    one_day['weight'] = one_day['总市值(元)']/sum(one_day['总市值(元)'])\n",
    "    need_concated.append(one_day)\n",
    "concated = pd.concat(need_concated)\n",
    "# one_day\n",
    "# concated"
   ]
  },
  {
   "cell_type": "code",
   "execution_count": 33,
   "metadata": {},
   "outputs": [
    {
     "output_type": "execute_result",
     "data": {
      "text/plain": [
       "               简称          日期  开盘价(元)  收盘价(元)        总市值(元) industry    weight\n",
       "代码                                                                            \n",
       "000998.SZ    隆平高科  2010-01-04    5.97    6.00  5.286204e+09       农业  0.078695\n",
       "﻿002041.SZ   登海种业  2010-01-04    6.97    6.85  6.274400e+09       农业  0.093406\n",
       "﻿600108.SH   亚盛集团  2010-01-04    5.89    5.75  1.009192e+10       农业  0.150236\n",
       "﻿600313.SH   农发种业  2010-01-04    3.00    3.04  2.345382e+09       农业  0.034915\n",
       "﻿600354.SH  *ST敦种  2010-01-04    8.47    8.72  3.566836e+09       农业  0.053099\n",
       "...           ...         ...     ...     ...           ...      ...       ...\n",
       "600371.SH    万向德农  2020-12-31   15.28   15.94  4.663693e+09       农业  0.029476\n",
       "600506.SH    香梨股份  2020-12-31   10.12   10.10  1.491839e+09       农业  0.009429\n",
       "600540.SH    新赛股份  2020-12-31    5.41    5.48  2.580660e+09       农业  0.016311\n",
       "600598.SH     北大荒  2020-12-31   18.44   19.25  3.422034e+10       农业  0.216283\n",
       "601118.SH    海南橡胶  2020-12-31    4.73    4.82  2.062684e+10       农业  0.130368\n",
       "\n",
       "[36279 rows x 7 columns]"
      ],
      "text/html": "<div>\n<style scoped>\n    .dataframe tbody tr th:only-of-type {\n        vertical-align: middle;\n    }\n\n    .dataframe tbody tr th {\n        vertical-align: top;\n    }\n\n    .dataframe thead th {\n        text-align: right;\n    }\n</style>\n<table border=\"1\" class=\"dataframe\">\n  <thead>\n    <tr style=\"text-align: right;\">\n      <th></th>\n      <th>简称</th>\n      <th>日期</th>\n      <th>开盘价(元)</th>\n      <th>收盘价(元)</th>\n      <th>总市值(元)</th>\n      <th>industry</th>\n      <th>weight</th>\n    </tr>\n    <tr>\n      <th>代码</th>\n      <th></th>\n      <th></th>\n      <th></th>\n      <th></th>\n      <th></th>\n      <th></th>\n      <th></th>\n    </tr>\n  </thead>\n  <tbody>\n    <tr>\n      <th>000998.SZ</th>\n      <td>隆平高科</td>\n      <td>2010-01-04</td>\n      <td>5.97</td>\n      <td>6.00</td>\n      <td>5.286204e+09</td>\n      <td>农业</td>\n      <td>0.078695</td>\n    </tr>\n    <tr>\n      <th>﻿002041.SZ</th>\n      <td>登海种业</td>\n      <td>2010-01-04</td>\n      <td>6.97</td>\n      <td>6.85</td>\n      <td>6.274400e+09</td>\n      <td>农业</td>\n      <td>0.093406</td>\n    </tr>\n    <tr>\n      <th>﻿600108.SH</th>\n      <td>亚盛集团</td>\n      <td>2010-01-04</td>\n      <td>5.89</td>\n      <td>5.75</td>\n      <td>1.009192e+10</td>\n      <td>农业</td>\n      <td>0.150236</td>\n    </tr>\n    <tr>\n      <th>﻿600313.SH</th>\n      <td>农发种业</td>\n      <td>2010-01-04</td>\n      <td>3.00</td>\n      <td>3.04</td>\n      <td>2.345382e+09</td>\n      <td>农业</td>\n      <td>0.034915</td>\n    </tr>\n    <tr>\n      <th>﻿600354.SH</th>\n      <td>*ST敦种</td>\n      <td>2010-01-04</td>\n      <td>8.47</td>\n      <td>8.72</td>\n      <td>3.566836e+09</td>\n      <td>农业</td>\n      <td>0.053099</td>\n    </tr>\n    <tr>\n      <th>...</th>\n      <td>...</td>\n      <td>...</td>\n      <td>...</td>\n      <td>...</td>\n      <td>...</td>\n      <td>...</td>\n      <td>...</td>\n    </tr>\n    <tr>\n      <th>600371.SH</th>\n      <td>万向德农</td>\n      <td>2020-12-31</td>\n      <td>15.28</td>\n      <td>15.94</td>\n      <td>4.663693e+09</td>\n      <td>农业</td>\n      <td>0.029476</td>\n    </tr>\n    <tr>\n      <th>600506.SH</th>\n      <td>香梨股份</td>\n      <td>2020-12-31</td>\n      <td>10.12</td>\n      <td>10.10</td>\n      <td>1.491839e+09</td>\n      <td>农业</td>\n      <td>0.009429</td>\n    </tr>\n    <tr>\n      <th>600540.SH</th>\n      <td>新赛股份</td>\n      <td>2020-12-31</td>\n      <td>5.41</td>\n      <td>5.48</td>\n      <td>2.580660e+09</td>\n      <td>农业</td>\n      <td>0.016311</td>\n    </tr>\n    <tr>\n      <th>600598.SH</th>\n      <td>北大荒</td>\n      <td>2020-12-31</td>\n      <td>18.44</td>\n      <td>19.25</td>\n      <td>3.422034e+10</td>\n      <td>农业</td>\n      <td>0.216283</td>\n    </tr>\n    <tr>\n      <th>601118.SH</th>\n      <td>海南橡胶</td>\n      <td>2020-12-31</td>\n      <td>4.73</td>\n      <td>4.82</td>\n      <td>2.062684e+10</td>\n      <td>农业</td>\n      <td>0.130368</td>\n    </tr>\n  </tbody>\n</table>\n<p>36279 rows × 7 columns</p>\n</div>"
     },
     "metadata": {},
     "execution_count": 33
    }
   ],
   "source": [
    "concated"
   ]
  },
  {
   "cell_type": "code",
   "execution_count": null,
   "metadata": {},
   "outputs": [],
   "source": []
  }
 ]
}