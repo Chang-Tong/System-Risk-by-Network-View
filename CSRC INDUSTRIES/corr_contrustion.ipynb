{
 "metadata": {
  "language_info": {
   "codemirror_mode": {
    "name": "ipython",
    "version": 3
   },
   "file_extension": ".py",
   "mimetype": "text/x-python",
   "name": "python",
   "nbconvert_exporter": "python",
   "pygments_lexer": "ipython3",
   "version": "3.8.5-final"
  },
  "orig_nbformat": 2,
  "kernelspec": {
   "name": "python3",
   "display_name": "Python 3.8.5 64-bit ('base': conda)",
   "metadata": {
    "interpreter": {
     "hash": "0b0d73a7eb9aaf9f1c37dbdf213c2c9676d43f6bee5650984843b881ebbf9b83"
    }
   }
  }
 },
 "nbformat": 4,
 "nbformat_minor": 2,
 "cells": [
  {
   "cell_type": "code",
   "execution_count": 1,
   "metadata": {},
   "outputs": [],
   "source": [
    "import pandas as pd\n",
    "import matplotlib.pyplot as plt \n",
    "import numpy as np \n",
    "import os\n",
    "import time\n",
    "from tqdm import tqdm"
   ]
  },
  {
   "cell_type": "code",
   "execution_count": 2,
   "metadata": {},
   "outputs": [],
   "source": [
    "file_path = os.listdir('cleaned_data')\n",
    "file_path = [x[:-4] for x in file_path]\n",
    "# file_path"
   ]
  },
  {
   "cell_type": "code",
   "execution_count": 3,
   "metadata": {},
   "outputs": [],
   "source": [
    "df = pd.read_csv('whole.csv',index_col=0)"
   ]
  },
  {
   "cell_type": "code",
   "execution_count": 18,
   "metadata": {},
   "outputs": [
    {
     "output_type": "stream",
     "name": "stderr",
     "text": [
      "  0%|          | 0/1 [00:00<?, ?it/s]<ipython-input-18-4e2caa708ffe>:10: SettingWithCopyWarning: \n",
      "A value is trying to be set on a copy of a slice from a DataFrame.\n",
      "Try using .loc[row_indexer,col_indexer] = value instead\n",
      "\n",
      "See the caveats in the documentation: https://pandas.pydata.org/pandas-docs/stable/user_guide/indexing.html#returning-a-view-versus-a-copy\n",
      "  one_industry_one_day['weight']=one_industry_one_day['总市值(元)']/sum(one_industry_one_day['总市值(元)'])\n",
      "100%|██████████| 1/1 [00:06<00:00,  6.20s/it]time claupse:  6.199864149093628\n",
      "\n"
     ]
    }
   ],
   "source": [
    "start_time = time.time()\n",
    "total_dict = {}\n",
    "for j in tqdm(range(1)):\n",
    "# for j in range(1):\n",
    "    one_industry_index = {}\n",
    "    one_industry = df[df['industry']==file_path[j]]\n",
    "    days = one_industry['日期'].drop_duplicates()\n",
    "    for i in range(len(days)):\n",
    "        one_industry_one_day = one_industry[one_industry['日期']==days[i]]\n",
    "        one_industry_one_day['weight']=one_industry_one_day['总市值(元)']/sum(one_industry_one_day['总市值(元)'])\n",
    "        one_industry_one_day_index = sum(one_industry_one_day['收盘价(元)']*one_industry_one_day['weight'])\n",
    "        # print(one_industry_one_day_index)\n",
    "        # one_industry_index.append(one_industry_one_day_index)\n",
    "        one_industry_index[days[i]]=one_industry_one_day_index\n",
    "    # if j%10==0:\n",
    "    #     print(one_industry_index)\n",
    "    total_dict[file_path[j]] = one_industry_index\n",
    "end_time = time.time()\n",
    "print('time claupse: ',end_time-start_time)\n"
   ]
  },
  {
   "cell_type": "code",
   "execution_count": 19,
   "metadata": {},
   "outputs": [],
   "source": [
    "# total_dict\n",
    "all_index = pd.DataFrame(total_dict)"
   ]
  },
  {
   "cell_type": "code",
   "execution_count": 20,
   "metadata": {},
   "outputs": [],
   "source": [
    "# all_index.to_csv('all_year_index.csv')"
   ]
  },
  {
   "cell_type": "code",
   "execution_count": 21,
   "metadata": {},
   "outputs": [
    {
     "output_type": "execute_result",
     "data": {
      "text/plain": [
       "                家具制造业\n",
       "2010-01-04   7.124950\n",
       "2010-01-05   7.184151\n",
       "2010-01-06   7.046548\n",
       "2010-01-07   6.859753\n",
       "2010-01-08   6.851040\n",
       "...               ...\n",
       "2020-12-25  66.207000\n",
       "2020-12-28  68.805875\n",
       "2020-12-29  68.223756\n",
       "2020-12-30  69.128806\n",
       "2020-12-31  72.903525\n",
       "\n",
       "[2674 rows x 1 columns]"
      ],
      "text/html": "<div>\n<style scoped>\n    .dataframe tbody tr th:only-of-type {\n        vertical-align: middle;\n    }\n\n    .dataframe tbody tr th {\n        vertical-align: top;\n    }\n\n    .dataframe thead th {\n        text-align: right;\n    }\n</style>\n<table border=\"1\" class=\"dataframe\">\n  <thead>\n    <tr style=\"text-align: right;\">\n      <th></th>\n      <th>家具制造业</th>\n    </tr>\n  </thead>\n  <tbody>\n    <tr>\n      <th>2010-01-04</th>\n      <td>7.124950</td>\n    </tr>\n    <tr>\n      <th>2010-01-05</th>\n      <td>7.184151</td>\n    </tr>\n    <tr>\n      <th>2010-01-06</th>\n      <td>7.046548</td>\n    </tr>\n    <tr>\n      <th>2010-01-07</th>\n      <td>6.859753</td>\n    </tr>\n    <tr>\n      <th>2010-01-08</th>\n      <td>6.851040</td>\n    </tr>\n    <tr>\n      <th>...</th>\n      <td>...</td>\n    </tr>\n    <tr>\n      <th>2020-12-25</th>\n      <td>66.207000</td>\n    </tr>\n    <tr>\n      <th>2020-12-28</th>\n      <td>68.805875</td>\n    </tr>\n    <tr>\n      <th>2020-12-29</th>\n      <td>68.223756</td>\n    </tr>\n    <tr>\n      <th>2020-12-30</th>\n      <td>69.128806</td>\n    </tr>\n    <tr>\n      <th>2020-12-31</th>\n      <td>72.903525</td>\n    </tr>\n  </tbody>\n</table>\n<p>2674 rows × 1 columns</p>\n</div>"
     },
     "metadata": {},
     "execution_count": 21
    }
   ],
   "source": [
    "all_index"
   ]
  },
  {
   "source": [
    "## year by year"
   ],
   "cell_type": "markdown",
   "metadata": {}
  },
  {
   "cell_type": "code",
   "execution_count": 22,
   "metadata": {},
   "outputs": [],
   "source": [
    "# all_year = pd.read_csv('all_year_index.csv',index_col=0)"
   ]
  },
  {
   "cell_type": "code",
   "execution_count": 23,
   "metadata": {},
   "outputs": [
    {
     "output_type": "execute_result",
     "data": {
      "text/plain": [
       "               家具制造业\n",
       "2010-01-04       NaN\n",
       "2010-01-05  0.008241\n",
       "2010-01-06 -0.019528\n",
       "2010-01-07 -0.027231\n",
       "2010-01-08 -0.001272\n",
       "...              ...\n",
       "2020-12-25 -0.031010\n",
       "2020-12-28  0.037771\n",
       "2020-12-29 -0.008532\n",
       "2020-12-30  0.013092\n",
       "2020-12-31  0.051777\n",
       "\n",
       "[2674 rows x 1 columns]"
      ],
      "text/html": "<div>\n<style scoped>\n    .dataframe tbody tr th:only-of-type {\n        vertical-align: middle;\n    }\n\n    .dataframe tbody tr th {\n        vertical-align: top;\n    }\n\n    .dataframe thead th {\n        text-align: right;\n    }\n</style>\n<table border=\"1\" class=\"dataframe\">\n  <thead>\n    <tr style=\"text-align: right;\">\n      <th></th>\n      <th>家具制造业</th>\n    </tr>\n  </thead>\n  <tbody>\n    <tr>\n      <th>2010-01-04</th>\n      <td>NaN</td>\n    </tr>\n    <tr>\n      <th>2010-01-05</th>\n      <td>0.008241</td>\n    </tr>\n    <tr>\n      <th>2010-01-06</th>\n      <td>-0.019528</td>\n    </tr>\n    <tr>\n      <th>2010-01-07</th>\n      <td>-0.027231</td>\n    </tr>\n    <tr>\n      <th>2010-01-08</th>\n      <td>-0.001272</td>\n    </tr>\n    <tr>\n      <th>...</th>\n      <td>...</td>\n    </tr>\n    <tr>\n      <th>2020-12-25</th>\n      <td>-0.031010</td>\n    </tr>\n    <tr>\n      <th>2020-12-28</th>\n      <td>0.037771</td>\n    </tr>\n    <tr>\n      <th>2020-12-29</th>\n      <td>-0.008532</td>\n    </tr>\n    <tr>\n      <th>2020-12-30</th>\n      <td>0.013092</td>\n    </tr>\n    <tr>\n      <th>2020-12-31</th>\n      <td>0.051777</td>\n    </tr>\n  </tbody>\n</table>\n<p>2674 rows × 1 columns</p>\n</div>"
     },
     "metadata": {},
     "execution_count": 23
    }
   ],
   "source": [
    "all_index =all_index.diff()/all_index\n",
    "all_index"
   ]
  },
  {
   "cell_type": "code",
   "execution_count": 24,
   "metadata": {},
   "outputs": [],
   "source": [
    "all_index['year'] = [x[:-6] for x in all_index.index]"
   ]
  },
  {
   "cell_type": "code",
   "execution_count": 25,
   "metadata": {},
   "outputs": [
    {
     "output_type": "execute_result",
     "data": {
      "text/plain": [
       "               家具制造业  year\n",
       "2010-01-04       NaN  2010\n",
       "2010-01-05  0.008241  2010\n",
       "2010-01-06 -0.019528  2010\n",
       "2010-01-07 -0.027231  2010\n",
       "2010-01-08 -0.001272  2010\n",
       "...              ...   ...\n",
       "2020-12-25 -0.031010  2020\n",
       "2020-12-28  0.037771  2020\n",
       "2020-12-29 -0.008532  2020\n",
       "2020-12-30  0.013092  2020\n",
       "2020-12-31  0.051777  2020\n",
       "\n",
       "[2674 rows x 2 columns]"
      ],
      "text/html": "<div>\n<style scoped>\n    .dataframe tbody tr th:only-of-type {\n        vertical-align: middle;\n    }\n\n    .dataframe tbody tr th {\n        vertical-align: top;\n    }\n\n    .dataframe thead th {\n        text-align: right;\n    }\n</style>\n<table border=\"1\" class=\"dataframe\">\n  <thead>\n    <tr style=\"text-align: right;\">\n      <th></th>\n      <th>家具制造业</th>\n      <th>year</th>\n    </tr>\n  </thead>\n  <tbody>\n    <tr>\n      <th>2010-01-04</th>\n      <td>NaN</td>\n      <td>2010</td>\n    </tr>\n    <tr>\n      <th>2010-01-05</th>\n      <td>0.008241</td>\n      <td>2010</td>\n    </tr>\n    <tr>\n      <th>2010-01-06</th>\n      <td>-0.019528</td>\n      <td>2010</td>\n    </tr>\n    <tr>\n      <th>2010-01-07</th>\n      <td>-0.027231</td>\n      <td>2010</td>\n    </tr>\n    <tr>\n      <th>2010-01-08</th>\n      <td>-0.001272</td>\n      <td>2010</td>\n    </tr>\n    <tr>\n      <th>...</th>\n      <td>...</td>\n      <td>...</td>\n    </tr>\n    <tr>\n      <th>2020-12-25</th>\n      <td>-0.031010</td>\n      <td>2020</td>\n    </tr>\n    <tr>\n      <th>2020-12-28</th>\n      <td>0.037771</td>\n      <td>2020</td>\n    </tr>\n    <tr>\n      <th>2020-12-29</th>\n      <td>-0.008532</td>\n      <td>2020</td>\n    </tr>\n    <tr>\n      <th>2020-12-30</th>\n      <td>0.013092</td>\n      <td>2020</td>\n    </tr>\n    <tr>\n      <th>2020-12-31</th>\n      <td>0.051777</td>\n      <td>2020</td>\n    </tr>\n  </tbody>\n</table>\n<p>2674 rows × 2 columns</p>\n</div>"
     },
     "metadata": {},
     "execution_count": 25
    }
   ],
   "source": [
    "all_index"
   ]
  },
  {
   "cell_type": "code",
   "execution_count": 24,
   "metadata": {},
   "outputs": [],
   "source": [
    "years = all_year['year'].drop_duplicates()\n",
    "for i in years:\n",
    "    corr_1y = all_year[all_year['year']==i].corr()\n",
    "    # print(corr_1y)\n",
    "    corr_1y.to_csv(f'{i} corr.csv')"
   ]
  },
  {
   "cell_type": "code",
   "execution_count": null,
   "metadata": {},
   "outputs": [],
   "source": []
  }
 ]
}