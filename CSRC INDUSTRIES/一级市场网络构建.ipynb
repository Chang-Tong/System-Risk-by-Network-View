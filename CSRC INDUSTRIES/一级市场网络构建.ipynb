{
 "metadata": {
  "language_info": {
   "codemirror_mode": {
    "name": "ipython",
    "version": 3
   },
   "file_extension": ".py",
   "mimetype": "text/x-python",
   "name": "python",
   "nbconvert_exporter": "python",
   "pygments_lexer": "ipython3",
   "version": "3.8.5-final"
  },
  "orig_nbformat": 2,
  "kernelspec": {
   "name": "python3",
   "display_name": "Python 3.8.5 64-bit ('base': conda)",
   "metadata": {
    "interpreter": {
     "hash": "0b0d73a7eb9aaf9f1c37dbdf213c2c9676d43f6bee5650984843b881ebbf9b83"
    }
   }
  }
 },
 "nbformat": 4,
 "nbformat_minor": 2,
 "cells": [
  {
   "cell_type": "code",
   "execution_count": 1,
   "metadata": {},
   "outputs": [],
   "source": [
    "import pandas as pd\n",
    "import os"
   ]
  },
  {
   "cell_type": "code",
   "execution_count": 2,
   "metadata": {},
   "outputs": [],
   "source": [
    "## 构建一级行业数据"
   ]
  },
  {
   "cell_type": "code",
   "execution_count": 3,
   "metadata": {},
   "outputs": [],
   "source": [
    "mother_path_list = os.listdir('First-level industry')\n",
    "mother_path_list.remove('.DS_Store')\n",
    "# mother_path_list.remove('房地产')"
   ]
  },
  {
   "cell_type": "code",
   "execution_count": 4,
   "metadata": {},
   "outputs": [],
   "source": [
    "# mother_path_list"
   ]
  },
  {
   "cell_type": "code",
   "execution_count": 5,
   "metadata": {},
   "outputs": [],
   "source": [
    "aim_adress = []\n",
    "for i in range(len(mother_path_list)):\n",
    "    address = os.listdir('First-level industry/'+mother_path_list[i])\n",
    "    aim_adress.append(address)"
   ]
  },
  {
   "cell_type": "code",
   "execution_count": 6,
   "metadata": {},
   "outputs": [],
   "source": [
    "\n",
    "for i in range(len(aim_adress)):\n",
    "    first_level = []\n",
    "    for j in range(len(aim_adress[i])):\n",
    "        # print('First-level industry/'+mother_path_list[i]+'/'+aim_adress[i][j])\n",
    "        first_level.append(pd.read_csv('First-level industry/'+mother_path_list[i]+'/'+aim_adress[i][j],index_col=0))\n",
    "        tmp = pd.concat(first_level)\n",
    "        tmp['first_level']=mother_path_list[i]\n",
    "        tmp.to_csv('18FIrst-level/'+mother_path_list[i]+'.csv')\n",
    "\n"
   ]
  },
  {
   "cell_type": "code",
   "execution_count": null,
   "metadata": {},
   "outputs": [],
   "source": []
  }
 ]
}