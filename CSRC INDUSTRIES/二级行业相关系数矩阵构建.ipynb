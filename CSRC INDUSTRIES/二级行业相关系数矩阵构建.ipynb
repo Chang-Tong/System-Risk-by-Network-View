{
 "metadata": {
  "language_info": {
   "codemirror_mode": {
    "name": "ipython",
    "version": 3
   },
   "file_extension": ".py",
   "mimetype": "text/x-python",
   "name": "python",
   "nbconvert_exporter": "python",
   "pygments_lexer": "ipython3",
   "version": "3.8.5-final"
  },
  "orig_nbformat": 2,
  "kernelspec": {
   "name": "python3",
   "display_name": "Python 3.8.5 64-bit ('base': conda)",
   "metadata": {
    "interpreter": {
     "hash": "0b0d73a7eb9aaf9f1c37dbdf213c2c9676d43f6bee5650984843b881ebbf9b83"
    }
   }
  }
 },
 "nbformat": 4,
 "nbformat_minor": 2,
 "cells": [
  {
   "cell_type": "code",
   "execution_count": 1,
   "metadata": {},
   "outputs": [],
   "source": [
    "import pandas as pd\n",
    "import matplotlib.pyplot as plt \n",
    "import numpy as np \n",
    "import os\n",
    "import time\n",
    "from tqdm import tqdm"
   ]
  },
  {
   "cell_type": "code",
   "execution_count": 3,
   "metadata": {},
   "outputs": [],
   "source": [
    "file_path = os.listdir('cleaned_data')\n",
    "# file_path"
   ]
  },
  {
   "cell_type": "code",
   "execution_count": 4,
   "metadata": {},
   "outputs": [],
   "source": [
    "industry_name = [x[:-4] for x in file_path]"
   ]
  },
  {
   "cell_type": "code",
   "execution_count": 10,
   "metadata": {},
   "outputs": [],
   "source": [
    "need_ = []\n",
    "for f in range(len(file_path)):\n",
    "    tmp = pd.read_csv('cleaned_data/'+file_path[f])\n",
    "    need_.append(tmp)\n"
   ]
  },
  {
   "cell_type": "code",
   "execution_count": 11,
   "metadata": {},
   "outputs": [],
   "source": [
    "whole = pd.concat(need_)"
   ]
  },
  {
   "cell_type": "code",
   "execution_count": 12,
   "metadata": {},
   "outputs": [],
   "source": [
    "whole.to_csv('whole1.csv')"
   ]
  },
  {
   "cell_type": "code",
   "execution_count": 13,
   "metadata": {},
   "outputs": [],
   "source": [
    "df = pd.read_csv('whole1.csv')"
   ]
  },
  {
   "cell_type": "code",
   "execution_count": 14,
   "metadata": {},
   "outputs": [
    {
     "output_type": "stream",
     "name": "stderr",
     "text": [
      "  0%|          | 0/79 [00:00<?, ?it/s]<ipython-input-14-3ec40dcf9abf>:14: SettingWithCopyWarning: \n",
      "A value is trying to be set on a copy of a slice from a DataFrame.\n",
      "Try using .loc[row_indexer,col_indexer] = value instead\n",
      "\n",
      "See the caveats in the documentation: https://pandas.pydata.org/pandas-docs/stable/user_guide/indexing.html#returning-a-view-versus-a-copy\n",
      "  one_industry_one_day['weight']=one_industry_one_day['总市值(元)']/sum(one_industry_one_day['总市值(元)'])\n",
      "100%|██████████| 79/79 [22:54<00:00, 17.40s/it]time claupse:  1374.4194731712341\n",
      "\n"
     ]
    }
   ],
   "source": [
    "start_time = time.time()\n",
    "total_dict = {}\n",
    "# for j in tqdm(range(1)):\n",
    "for j in tqdm(range(len(industry_name))):\n",
    "    one_industry_index = {}\n",
    "    # 选定一个行业\n",
    "    one_industry = df[df['industry']==industry_name[j]]\n",
    "    # 确定了行业之后确定这个行业所能覆盖的交易日\n",
    "    days = one_industry['日期'].drop_duplicates()\n",
    "    for i in range(len(days)):\n",
    "        # 确定一个行业在一个交易日的信息\n",
    "        one_industry_one_day = one_industry[one_industry['日期']==days.iloc[i]]\n",
    "        # 计算每一天的weight\n",
    "        one_industry_one_day['weight']=one_industry_one_day['总市值(元)']/sum(one_industry_one_day['总市值(元)'])\n",
    "        # 依据weight和收盘价构造行业指数\n",
    "        one_industry_one_day_index = sum(one_industry_one_day['收盘价(元)']*one_industry_one_day['weight'])\n",
    "        one_industry_index[days.iloc[i]]=one_industry_one_day_index\n",
    "    total_dict[industry_name[j]] = one_industry_index\n",
    "end_time = time.time()\n",
    "print('time claupse: ',end_time-start_time)\n"
   ]
  },
  {
   "cell_type": "code",
   "execution_count": 15,
   "metadata": {},
   "outputs": [],
   "source": [
    "# total_dict\n",
    "all_index = pd.DataFrame(total_dict)"
   ]
  },
  {
   "cell_type": "code",
   "execution_count": 16,
   "metadata": {},
   "outputs": [],
   "source": [
    "all_index.to_csv('all_year_index1.csv')"
   ]
  },
  {
   "source": [
    "## corr "
   ],
   "cell_type": "markdown",
   "metadata": {}
  },
  {
   "cell_type": "code",
   "execution_count": 17,
   "metadata": {},
   "outputs": [],
   "source": [
    "all_data = pd.read_csv('all_year_index1.csv',index_col=0)"
   ]
  },
  {
   "cell_type": "code",
   "execution_count": 18,
   "metadata": {},
   "outputs": [],
   "source": [
    "all_data['日期']=all_data.index"
   ]
  },
  {
   "cell_type": "code",
   "execution_count": 19,
   "metadata": {},
   "outputs": [],
   "source": [
    "all_data['year'] = all_data.apply(lambda x:x['日期'][:-6],axis=1)"
   ]
  },
  {
   "cell_type": "code",
   "execution_count": 20,
   "metadata": {},
   "outputs": [
    {
     "output_type": "execute_result",
     "data": {
      "text/plain": [
       "2010-01-04    2010\n",
       "2011-01-04    2011\n",
       "2012-01-04    2012\n",
       "2013-01-04    2013\n",
       "2014-01-02    2014\n",
       "2015-01-05    2015\n",
       "2016-01-04    2016\n",
       "2017-01-03    2017\n",
       "2018-01-02    2018\n",
       "2019-01-02    2019\n",
       "2020-01-02    2020\n",
       "Name: year, dtype: object"
      ]
     },
     "metadata": {},
     "execution_count": 20
    }
   ],
   "source": [
    "# all_data\n",
    "years = all_data.year.drop_duplicates()\n",
    "years"
   ]
  },
  {
   "cell_type": "code",
   "execution_count": 21,
   "metadata": {},
   "outputs": [],
   "source": [
    "for i in range(len(years)):\n",
    "    year1 = all_data[all_data.year==years[i]][:-1]\n",
    "    year1.set_index(year1['year'])\n",
    "    year1 = year1.drop(['日期','year'],axis=1)\n",
    "    dyear = year1.diff()/year1\n",
    "    dyear = (dyear-dyear.mean())/dyear.std()\n",
    "    corr = dyear.corr()\n",
    "    corr.to_csv(years[i]+' corr.csv')"
   ]
  },
  {
   "cell_type": "code",
   "execution_count": null,
   "metadata": {},
   "outputs": [],
   "source": []
  }
 ]
}